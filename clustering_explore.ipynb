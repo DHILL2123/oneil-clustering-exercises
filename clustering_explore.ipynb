{
 "cells": [
  {
   "cell_type": "markdown",
   "id": "9ae1c5b1",
   "metadata": {},
   "source": [
    "# Exploration Lesson"
   ]
  },
  {
   "cell_type": "markdown",
   "id": "baf632cb",
   "metadata": {},
   "source": [
    "### Goals:"
   ]
  },
  {
   "cell_type": "markdown",
   "id": "b69ec506",
   "metadata": {},
   "source": [
    "- Can we see patterns, find signals in the data?\n",
    "\n",
    "- What features are driving the outcome?\n",
    "\n",
    "- Are there other features we can construct that have stronger relationships?\n",
    "\n",
    "- Use visualization and statistical testing to help answer these questions.\n",
    "\n",
    "- We want to walk away from exploration with with modeling strategies (feature selection, algorithm selection, evaluation methods)."
   ]
  },
  {
   "cell_type": "markdown",
   "id": "03a4bd2c",
   "metadata": {},
   "source": [
    "### Scenario:"
   ]
  },
  {
   "cell_type": "markdown",
   "id": "8d7518f5",
   "metadata": {},
   "source": [
    "We would like to be able to use attributes of customers to estimate their spending score. In doing so, we can target those customers that are likely to be most profitable for us. Our target variable is spending_score. Currently the only customer data we have available to use in this project is age, annual_income and gender. It is possible we may not have enough information to build a valuable model. If not, maybe we could do some unsupervised learning, and find clusters of similar customers using all of the variables (including spending_score) and that could help us with a starting point for our targeted marketing."
   ]
  },
  {
   "cell_type": "code",
   "execution_count": null,
   "id": "cf62e511",
   "metadata": {},
   "outputs": [],
   "source": [
    "#standard ds\n",
    "import pandas as pd\n",
    "import numpy as np\n",
    "\n",
    "#viz and stats\n",
    "import seaborn as sns\n",
    "import matplotlib.pyplot as plt\n",
    "from scipy import stats\n",
    "\n",
    "#splits, scale\n",
    "from sklearn.model_selection import train_test_split\n",
    "from sklearn.preprocessing import MinMaxScaler\n",
    "\n",
    "#my env file\n",
    "from env import get_db_url"
   ]
  },
  {
   "cell_type": "markdown",
   "id": "2d4bcd25",
   "metadata": {},
   "source": [
    "## Acquire!"
   ]
  },
  {
   "cell_type": "code",
   "execution_count": null,
   "id": "18806056",
   "metadata": {},
   "outputs": [],
   "source": [
    "df = pd.read_sql('SELECT * FROM customers;', get_db_url('mall_customers'))\n",
    "df = df.set_index('customer_id')\n",
    "df.head()"
   ]
  },
  {
   "cell_type": "code",
   "execution_count": null,
   "id": "7f851b9c",
   "metadata": {},
   "outputs": [],
   "source": [
    "df.info()"
   ]
  },
  {
   "cell_type": "markdown",
   "id": "c1752056",
   "metadata": {},
   "source": [
    "## Prepare!"
   ]
  },
  {
   "cell_type": "code",
   "execution_count": null,
   "id": "caf97d62",
   "metadata": {},
   "outputs": [],
   "source": [
    "def train_validate_test_split(df, target, seed=123):\n",
    "    '''\n",
    "    This function takes in a dataframe and splits the data into train, validate and test. \n",
    "    '''\n",
    "    train_validate, test = train_test_split(df, test_size=0.2, random_state=seed)\n",
    "    \n",
    "    train, validate = train_test_split(train_validate, test_size=0.3, random_state=seed)\n",
    "    return train, validate, test"
   ]
  },
  {
   "cell_type": "code",
   "execution_count": null,
   "id": "682315c0",
   "metadata": {},
   "outputs": [],
   "source": [
    "def scale_my_data(train, validate, test):\n",
    "    '''\n",
    "    scale my data using minmaxscaler and add it back to my input datasets\n",
    "    '''\n",
    "    scaler = MinMaxScaler()\n",
    "    scaler.fit(train[['age', 'annual_income']])\n",
    "    \n",
    "    X_train_scaled = scaler.transform(train[['age', 'annual_income']])\n",
    "    X_validate_scaled = scaler.transform(validate[['age', 'annual_income']])\n",
    "    X_test_scaled = scaler.transform(test[['age', 'annual_income']])\n",
    "\n",
    "    train[['age_scaled', 'annual_income_scaled']] = X_train_scaled\n",
    "    validate[['age_scaled', 'annual_income_scaled']] = X_validate_scaled\n",
    "    test[['age_scaled', 'annual_income_scaled']] = X_test_scaled\n",
    "    return train, validate, test"
   ]
  },
  {
   "cell_type": "code",
   "execution_count": null,
   "id": "3843b31c",
   "metadata": {},
   "outputs": [],
   "source": [
    "def prep_mall(df):\n",
    "    '''\n",
    "    dummy var for gender into is_male\n",
    "    split on target of 'spending_score'\n",
    "    scale age and annual income. \n",
    "    '''\n",
    "    df['is_male'] = pd.get_dummies(df['gender'], drop_first=True)['Male']\n",
    "    train, validate, test = train_validate_test_split(df, target='spending_score', seed=1349)\n",
    "    train, validate, test = scale_my_data(train, validate, test)\n",
    "    \n",
    "    print(f'df: {df.shape}')\n",
    "    print()\n",
    "    print(f'train: {train.shape}')\n",
    "    print(f'validate: {validate.shape}')\n",
    "    print(f'test: {test.shape}')\n",
    "    return df, train, validate, test"
   ]
  },
  {
   "cell_type": "code",
   "execution_count": null,
   "id": "902e0871",
   "metadata": {},
   "outputs": [],
   "source": [
    "df, train, validate, test = prep_mall(df)"
   ]
  },
  {
   "cell_type": "code",
   "execution_count": null,
   "id": "8e194a06",
   "metadata": {},
   "outputs": [],
   "source": [
    "train.head()"
   ]
  },
  {
   "cell_type": "markdown",
   "id": "7aae8882",
   "metadata": {},
   "source": [
    "## Explore!"
   ]
  },
  {
   "cell_type": "markdown",
   "id": "cacd05b0",
   "metadata": {},
   "source": [
    "1. Ask your question\n",
    "\n",
    "2. Vizualize it\n",
    "\n",
    "3. Perform a stats test, if needed\n",
    "\n",
    "4. Write your takeaway"
   ]
  },
  {
   "cell_type": "markdown",
   "id": "4186cacc",
   "metadata": {},
   "source": [
    "### Q1. What is the distribution of each variable?"
   ]
  },
  {
   "cell_type": "markdown",
   "id": "8a82a8a2",
   "metadata": {},
   "source": [
    "Since I'm doing at univariate exploration, I can use the original dataset."
   ]
  },
  {
   "cell_type": "code",
   "execution_count": null,
   "id": "323a6b0c",
   "metadata": {},
   "outputs": [],
   "source": []
  },
  {
   "cell_type": "markdown",
   "id": "30e38f2e",
   "metadata": {},
   "source": [
    "#### Takeaways"
   ]
  },
  {
   "cell_type": "markdown",
   "id": "60c1f9f9",
   "metadata": {},
   "source": [
    "- slight inbalance in gender\n",
    "- age and annual_income is right skewed\n",
    "- spending_score is normally distribution\n",
    "\n",
    "Note: I care about distributions for the stats test"
   ]
  },
  {
   "cell_type": "markdown",
   "id": "a9ce654e",
   "metadata": {},
   "source": [
    "### Q2. Does the spending score differ across gender?"
   ]
  },
  {
   "cell_type": "code",
   "execution_count": null,
   "id": "27df7693",
   "metadata": {},
   "outputs": [],
   "source": []
  },
  {
   "cell_type": "markdown",
   "id": "743c49a0",
   "metadata": {},
   "source": [
    "I am now comparing variables, so I HAVE to use the train dataset."
   ]
  },
  {
   "cell_type": "markdown",
   "id": "10bf8efa",
   "metadata": {},
   "source": [
    "> what type of variable is spending_score? continuous  \n",
    "> what type of variable is gender? categorical"
   ]
  },
  {
   "cell_type": "code",
   "execution_count": null,
   "id": "37c44ac9",
   "metadata": {},
   "outputs": [],
   "source": []
  },
  {
   "cell_type": "code",
   "execution_count": null,
   "id": "d0c702c1",
   "metadata": {},
   "outputs": [],
   "source": []
  },
  {
   "cell_type": "code",
   "execution_count": null,
   "id": "70a46ddc",
   "metadata": {},
   "outputs": [],
   "source": []
  },
  {
   "cell_type": "code",
   "execution_count": null,
   "id": "225ba082",
   "metadata": {},
   "outputs": [],
   "source": []
  },
  {
   "cell_type": "markdown",
   "id": "1b49d413",
   "metadata": {},
   "source": [
    "Thoughts"
   ]
  },
  {
   "cell_type": "markdown",
   "id": "a57e2f3d",
   "metadata": {},
   "source": [
    "- it looks like gender does not affect our spending score"
   ]
  },
  {
   "cell_type": "markdown",
   "id": "eed7eaf5",
   "metadata": {},
   "source": [
    "Which stats test to use? "
   ]
  },
  {
   "cell_type": "markdown",
   "id": "29df2f71",
   "metadata": {},
   "source": [
    "- we have continuous and categorical variables, so we will do a comparing means test\n",
    "- since they are normally distributed, we can use a t-test\n",
    "- we have 2 independent categories, therefore, we will use a 2-sample t-test\n",
    "- since we are checking to see if they are the same, we will use a 2-tail t-test\n",
    "\n",
    "Note: when using a t-test, we have to check for equal variances"
   ]
  },
  {
   "cell_type": "markdown",
   "id": "8ffe209e",
   "metadata": {},
   "source": [
    "Levene Test\n",
    "- Ho: the variances are equal\n",
    "- Ha: the variances are different\n",
    "\n",
    "alpha = 0.05"
   ]
  },
  {
   "cell_type": "code",
   "execution_count": null,
   "id": "58eca0da",
   "metadata": {},
   "outputs": [],
   "source": []
  },
  {
   "cell_type": "markdown",
   "id": "593fbcc0",
   "metadata": {},
   "source": [
    "2-sample, 2-tail t-test"
   ]
  },
  {
   "cell_type": "code",
   "execution_count": null,
   "id": "133c173f",
   "metadata": {},
   "outputs": [],
   "source": []
  },
  {
   "cell_type": "markdown",
   "id": "ed149f22",
   "metadata": {},
   "source": [
    "#### Takeaway"
   ]
  },
  {
   "cell_type": "markdown",
   "id": "8e893aad",
   "metadata": {},
   "source": [
    "- there is not a significant difference in spending score means between gender"
   ]
  },
  {
   "cell_type": "markdown",
   "id": "02873917",
   "metadata": {},
   "source": [
    "### Q3. Is there a relationship between spending score and annual income?"
   ]
  },
  {
   "cell_type": "markdown",
   "id": "e3393443",
   "metadata": {},
   "source": [
    "> what type of variable is spending score? continuous, target   \n",
    "> what type of variable is annual income? continuous"
   ]
  },
  {
   "cell_type": "code",
   "execution_count": null,
   "id": "cbe7b289",
   "metadata": {},
   "outputs": [],
   "source": []
  },
  {
   "cell_type": "markdown",
   "id": "93e4049a",
   "metadata": {},
   "source": [
    "Thoughts"
   ]
  },
  {
   "cell_type": "markdown",
   "id": "2042078b",
   "metadata": {},
   "source": [
    "- there does not appear to be a linear relationship\n",
    "- it looks like a big X\n",
    "- these could be clusters!"
   ]
  },
  {
   "cell_type": "markdown",
   "id": "30aa56d4",
   "metadata": {},
   "source": [
    "Which stats test to use? \n"
   ]
  },
  {
   "cell_type": "markdown",
   "id": "3cd81f08",
   "metadata": {},
   "source": [
    "- we have two continuous variables, therefore, we will do a correlation test \n",
    "- since they are not normally distributed, we will use spearmans test"
   ]
  },
  {
   "cell_type": "markdown",
   "id": "385929dc",
   "metadata": {},
   "source": [
    "Spearmean R\n"
   ]
  },
  {
   "cell_type": "markdown",
   "id": "4d561eac",
   "metadata": {},
   "source": [
    "- Ho: there is no linear correlation between annual income and spending score\n",
    "- Ha: there is linear correlation between annual income and spending score"
   ]
  },
  {
   "cell_type": "code",
   "execution_count": null,
   "id": "ce8556f3",
   "metadata": {},
   "outputs": [],
   "source": []
  },
  {
   "cell_type": "markdown",
   "id": "b6c27117",
   "metadata": {},
   "source": [
    "#### Takeaways"
   ]
  },
  {
   "cell_type": "markdown",
   "id": "4e797cce",
   "metadata": {},
   "source": [
    "- there is no linear correlation between annual income and spending score\n",
    "- however, there does appear to be some kind of non-linear relationship"
   ]
  },
  {
   "cell_type": "markdown",
   "id": "9595e1ca",
   "metadata": {},
   "source": [
    "### Q4. Is there a relationship between age and spending score? "
   ]
  },
  {
   "cell_type": "code",
   "execution_count": null,
   "id": "80a1ca18",
   "metadata": {},
   "outputs": [],
   "source": []
  },
  {
   "cell_type": "code",
   "execution_count": null,
   "id": "5e13b354",
   "metadata": {},
   "outputs": [],
   "source": []
  },
  {
   "cell_type": "markdown",
   "id": "48548953",
   "metadata": {},
   "source": [
    "> what type of variable is age? continuous     \n",
    "> what type of variable is spending score? continuous "
   ]
  },
  {
   "cell_type": "code",
   "execution_count": null,
   "id": "9a7ef695",
   "metadata": {},
   "outputs": [],
   "source": []
  },
  {
   "cell_type": "markdown",
   "id": "6f1469a5",
   "metadata": {},
   "source": [
    "Thoughts\n",
    "- there doesnt really look like a linear relationship\n",
    "- at 40 years old, something is happening, there is a dropoff in spending score"
   ]
  },
  {
   "cell_type": "markdown",
   "id": "80bebcad",
   "metadata": {},
   "source": [
    "We'll use `pd.cut()` to make bins"
   ]
  },
  {
   "cell_type": "code",
   "execution_count": null,
   "id": "70dad03b",
   "metadata": {},
   "outputs": [],
   "source": [
    "#make new age_bin column\n",
    "#adding a label is helpful for calling that column!\n"
   ]
  },
  {
   "cell_type": "code",
   "execution_count": null,
   "id": "775a2aae",
   "metadata": {},
   "outputs": [],
   "source": []
  },
  {
   "cell_type": "code",
   "execution_count": null,
   "id": "0a144b67",
   "metadata": {},
   "outputs": [],
   "source": []
  },
  {
   "cell_type": "code",
   "execution_count": null,
   "id": "7be6cb3e",
   "metadata": {},
   "outputs": [],
   "source": []
  },
  {
   "cell_type": "code",
   "execution_count": null,
   "id": "b0df7f8f",
   "metadata": {},
   "outputs": [],
   "source": []
  },
  {
   "cell_type": "code",
   "execution_count": null,
   "id": "957f8389",
   "metadata": {},
   "outputs": [],
   "source": [
    "train.spending_score.hist()\n",
    "plt.show()"
   ]
  },
  {
   "cell_type": "markdown",
   "id": "1c0e1c44",
   "metadata": {},
   "source": [
    "Which stats test to use? \n"
   ]
  },
  {
   "cell_type": "markdown",
   "id": "cfd015e5",
   "metadata": {},
   "source": [
    "- 2-sample, 2-tail, t-test\n",
    "\n",
    "note: when using a ttest, have to test for equal variances! "
   ]
  },
  {
   "cell_type": "markdown",
   "id": "b6f36c84",
   "metadata": {},
   "source": [
    "Levene test"
   ]
  },
  {
   "cell_type": "code",
   "execution_count": null,
   "id": "64f3f624",
   "metadata": {},
   "outputs": [],
   "source": [
    "#stats.levene\n"
   ]
  },
  {
   "cell_type": "markdown",
   "id": "b2a10c9c",
   "metadata": {},
   "source": [
    "> our pvalue is less than alpha, therefore we reject the null hypothesis  \n",
    "> our variances are not equal"
   ]
  },
  {
   "cell_type": "code",
   "execution_count": null,
   "id": "206a5004",
   "metadata": {},
   "outputs": [],
   "source": [
    "#stats.ttest_ind\n"
   ]
  },
  {
   "cell_type": "markdown",
   "id": "566d5c78",
   "metadata": {},
   "source": [
    "#### Takeaway"
   ]
  },
  {
   "cell_type": "markdown",
   "id": "08fa08d5",
   "metadata": {},
   "source": [
    "### Q. If we control for age, does spending score differ across annual income?"
   ]
  },
  {
   "cell_type": "markdown",
   "id": "d613e6f8",
   "metadata": {},
   "source": [
    "Use `sns.relplot` to control for variables"
   ]
  },
  {
   "cell_type": "code",
   "execution_count": null,
   "id": "9b9d8702",
   "metadata": {},
   "outputs": [],
   "source": []
  },
  {
   "cell_type": "code",
   "execution_count": null,
   "id": "50a6978c",
   "metadata": {},
   "outputs": [],
   "source": []
  },
  {
   "cell_type": "markdown",
   "id": "46c1ae1e",
   "metadata": {},
   "source": [
    "Thoughts\n"
   ]
  },
  {
   "cell_type": "markdown",
   "id": "36b896c0",
   "metadata": {},
   "source": [
    "- we see more customers with a high spending score for customers over 40\n",
    "- we see half an X in the customers over 40\n",
    "- customers over 40 dont have high spending scores"
   ]
  },
  {
   "cell_type": "code",
   "execution_count": null,
   "id": "ecc34f19",
   "metadata": {},
   "outputs": [],
   "source": []
  },
  {
   "cell_type": "code",
   "execution_count": null,
   "id": "b6bd808d",
   "metadata": {},
   "outputs": [],
   "source": [
    "#create age bins in col\n",
    "\n"
   ]
  },
  {
   "cell_type": "markdown",
   "id": "f67c590d",
   "metadata": {},
   "source": [
    "Thoughts"
   ]
  },
  {
   "cell_type": "markdown",
   "id": "f647852d",
   "metadata": {},
   "source": [
    "- starting to see a negative linear relationship in customers less than 30\n",
    "- customers betweeen 30 and 40 are still scattered everywhere\n",
    "- over 40 customers still have the half X shape"
   ]
  },
  {
   "cell_type": "markdown",
   "id": "d9226697",
   "metadata": {},
   "source": [
    "#### Does gender play a role?"
   ]
  },
  {
   "cell_type": "code",
   "execution_count": null,
   "id": "73067241",
   "metadata": {},
   "outputs": [],
   "source": []
  },
  {
   "cell_type": "markdown",
   "id": "98d2a91f",
   "metadata": {},
   "source": [
    "Thoughts\n"
   ]
  },
  {
   "cell_type": "markdown",
   "id": "1b425b1c",
   "metadata": {},
   "source": [
    "- gender still doesn't tell us anything"
   ]
  },
  {
   "cell_type": "markdown",
   "id": "2de96074",
   "metadata": {},
   "source": [
    "#### Takeaways\n"
   ]
  },
  {
   "cell_type": "markdown",
   "id": "39e744cd",
   "metadata": {},
   "source": [
    "- spending score and income does change with age, especially at the 40 year mark\n",
    "- also, gender does not affect these variables"
   ]
  },
  {
   "cell_type": "markdown",
   "id": "5584f79f",
   "metadata": {},
   "source": [
    "### Q. If we control for annual income, does spending score differ across age?"
   ]
  },
  {
   "cell_type": "code",
   "execution_count": null,
   "id": "586576f3",
   "metadata": {},
   "outputs": [],
   "source": []
  },
  {
   "cell_type": "code",
   "execution_count": null,
   "id": "d8e7f456",
   "metadata": {},
   "outputs": [],
   "source": []
  },
  {
   "cell_type": "code",
   "execution_count": null,
   "id": "51040b19",
   "metadata": {},
   "outputs": [],
   "source": []
  },
  {
   "cell_type": "code",
   "execution_count": null,
   "id": "67c4cfdd",
   "metadata": {},
   "outputs": [],
   "source": []
  },
  {
   "cell_type": "markdown",
   "id": "07538266",
   "metadata": {},
   "source": [
    "Takeaways\n"
   ]
  },
  {
   "cell_type": "markdown",
   "id": "814397fb",
   "metadata": {},
   "source": [
    "- when accounting for income, the relationships do not seem to change"
   ]
  },
  {
   "cell_type": "code",
   "execution_count": null,
   "id": "c78b2b80",
   "metadata": {},
   "outputs": [],
   "source": []
  },
  {
   "cell_type": "markdown",
   "id": "4e0a3cd1",
   "metadata": {},
   "source": [
    "### If you don't know where to start, start with pairplot"
   ]
  },
  {
   "cell_type": "code",
   "execution_count": null,
   "id": "6fdeb750",
   "metadata": {},
   "outputs": [],
   "source": []
  },
  {
   "cell_type": "code",
   "execution_count": null,
   "id": "4e197496",
   "metadata": {},
   "outputs": [],
   "source": []
  },
  {
   "cell_type": "markdown",
   "id": "dddf5c33",
   "metadata": {},
   "source": [
    "## Conclusion\n",
    "\n"
   ]
  },
  {
   "cell_type": "code",
   "execution_count": null,
   "id": "e40ebc93",
   "metadata": {},
   "outputs": [],
   "source": []
  }
 ],
 "metadata": {
  "kernelspec": {
   "display_name": "Python 3 (ipykernel)",
   "language": "python",
   "name": "python3"
  },
  "language_info": {
   "codemirror_mode": {
    "name": "ipython",
    "version": 3
   },
   "file_extension": ".py",
   "mimetype": "text/x-python",
   "name": "python",
   "nbconvert_exporter": "python",
   "pygments_lexer": "ipython3",
   "version": "3.9.13"
  }
 },
 "nbformat": 4,
 "nbformat_minor": 5
}
